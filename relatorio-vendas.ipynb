{
 "cells": [
  {
   "cell_type": "markdown",
   "id": "cb77ca58",
   "metadata": {},
   "source": [
    "## Automação de processos em Python\n",
    "\n",
    "Projeto usando da biblioteca pyautogui para automação de processos; o intuito é automatizar o desenvolvimento de um relatório, conforme o passo a passo listado abaixo. Para tal, usa-se também o _pandas_ (biblioteca em Python para manipulação de dados), _numpy_ (biblioteca em Python para matrizes matemáticas) e _openpyxl_ (biblioteca em Python para manipulação de documentos específicos, como os padrões do Excel)."
   ]
  },
  {
   "cell_type": "code",
   "execution_count": 8,
   "id": "65875b2e",
   "metadata": {},
   "outputs": [],
   "source": [
    "# !pip install pyautogui"
   ]
  },
  {
   "cell_type": "code",
   "execution_count": null,
   "id": "25d6916c",
   "metadata": {},
   "outputs": [],
   "source": [
    "import pyautogui\n",
    "import time\n",
    "\n",
    "    # Navegar até a base de vendas\n",
    "    # Baixar a base de vendas\n",
    "    # Importá-la para o Python\n",
    "    # Calcular os indicadores\n",
    "    # Enviar os indicadores via e-mail"
   ]
  },
  {
   "cell_type": "markdown",
   "id": "9c95b848",
   "metadata": {},
   "source": [
    "A biblioteca _pyautogui_ possui poucos comandos principais, essenciais para basicamente toda a codificação do projeto:\n",
    "\n",
    "    * pyautogui.click(posição)\n",
    "    * pyautogui.press(tecla)\n",
    "    * pyautogui.hotkey(atalho)\n",
    "    * pyautogui.write(texto)\n",
    "    * pyautogui.position()"
   ]
  },
  {
   "cell_type": "code",
   "execution_count": null,
   "id": "114b09bb",
   "metadata": {},
   "outputs": [],
   "source": [
    "# Dê uma pausa entre os comandos de 2s\n",
    "\n",
    "pyautogui.PAUSE = 2"
   ]
  },
  {
   "cell_type": "code",
   "execution_count": null,
   "id": "eade3755",
   "metadata": {},
   "outputs": [],
   "source": [
    "# Navegar até a base de vendas\n",
    "\n",
    "pyautogui.hotkey(\"ctrl\", \"t\")\n",
    "pyautogui.write(\"https://drive.google.com/drive/folders/149xknr9JvrlEnhNWO49zPcw0PW5icxga\")\n",
    "pyautogui.press(\"enter\")\n",
    "\n",
    "time.sleep(5) # Espere 5s"
   ]
  },
  {
   "cell_type": "code",
   "execution_count": null,
   "id": "bf199bd3",
   "metadata": {},
   "outputs": [],
   "source": [
    "# Baixar base de vendas\n",
    "\n",
    "pyautogui.click(x=1023, y=710, clicks=2)\n",
    "time.sleep(1)\n",
    "\n",
    "pyautogui.click(x=1100, y=904)\n",
    "pyautogui.click(x=3288, y=411)\n",
    "pyautogui.click(x=2716, y=1523)\n",
    "\n",
    "time.sleep(5)"
   ]
  },
  {
   "cell_type": "code",
   "execution_count": null,
   "id": "dd541499",
   "metadata": {},
   "outputs": [],
   "source": [
    "# Importar base de dados\n",
    "\n",
    "import pandas\n",
    "\n",
    "table = pandas.read_excel(r\"D:\\Users\\ggilp\\Downloads\\Vendas.xlsx\")\n",
    "display(table) # print(table)"
   ]
  },
  {
   "cell_type": "code",
   "execution_count": null,
   "id": "99d4af67",
   "metadata": {},
   "outputs": [],
   "source": [
    "# Calcular indicadores\n",
    "\n",
    "faturamento = table['Valor Final'].sum()\n",
    "quantidade = table['Quantidade'].sum()"
   ]
  },
  {
   "cell_type": "code",
   "execution_count": null,
   "id": "82dae76e",
   "metadata": {},
   "outputs": [],
   "source": [
    "# Enviar via e-mail\n",
    "\n",
    "pyautogui.hotkey(\"ctrl\", \"t\")\n",
    "pyautogui.write(\"mail.google.com\")\n",
    "pyautogui.press(\"enter\")\n",
    "time.sleep(6)\n",
    "\n",
    "pyautogui.click(x=240, y=15)\n",
    "\n",
    "pyautogui.write(\"pedroaggil@gmail.com\")\n",
    "pyautogui.press(\"tab\")\n",
    "pyautogui.press(\"tab\")\n",
    "pyautogui.write(\"Relatório de Vendas\")\n",
    "pyautogui.press(\"tab\")\n",
    "\n",
    "msg = f\"\"\"\n",
    "    Quantidade: {quantidade:.} un\n",
    "    Faturamento: R${faturamento:.},00\n",
    "\"\"\"\n",
    "\n",
    "pyautogui.write(msg)\n",
    "\n",
    "pyautogui.hotkey(\"ctrl\", \"enter\")"
   ]
  }
 ],
 "metadata": {
  "kernelspec": {
   "display_name": "Python 3 (ipykernel)",
   "language": "python",
   "name": "python3"
  },
  "language_info": {
   "codemirror_mode": {
    "name": "ipython",
    "version": 3
   },
   "file_extension": ".py",
   "mimetype": "text/x-python",
   "name": "python",
   "nbconvert_exporter": "python",
   "pygments_lexer": "ipython3",
   "version": "3.9.12"
  }
 },
 "nbformat": 4,
 "nbformat_minor": 5
}
